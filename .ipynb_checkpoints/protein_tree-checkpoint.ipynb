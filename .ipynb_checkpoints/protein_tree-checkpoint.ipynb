{
 "cells": [
  {
   "cell_type": "code",
   "execution_count": 19,
   "id": "7a1f1a03",
   "metadata": {},
   "outputs": [],
   "source": [
    "import re\n",
    "\n",
    "import pandas as pd\n",
    "\n",
    "from Bio import SeqIO"
   ]
  },
  {
   "cell_type": "code",
   "execution_count": 20,
   "id": "10225f5d",
   "metadata": {},
   "outputs": [],
   "source": [
    "from anytree import Node, RenderTree\n",
    "\n",
    "def add_nodes(nodes, parent, child):\n",
    "    if parent not in nodes:\n",
    "        nodes[parent] = Node(parent)  \n",
    "    if child not in nodes:\n",
    "        nodes[child] = Node(child)\n",
    "    nodes[child].parent = nodes[parent]"
   ]
  },
  {
   "cell_type": "code",
   "execution_count": 21,
   "id": "cd84397b",
   "metadata": {},
   "outputs": [],
   "source": [
    "proteins = list(SeqIO.parse('9606_all.fasta', 'fasta'))\n",
    "gp_ids = [str(x.id.split('|')[1]) for x in list(SeqIO.parse('9606_gp.fasta', 'fasta'))]"
   ]
  },
  {
   "cell_type": "code",
   "execution_count": 11,
   "id": "fbf6885b",
   "metadata": {},
   "outputs": [],
   "source": [
    "data = []\n",
    "for protein in proteins:\n",
    "    uniprot_id = protein.id.split('|')[1]\n",
    "    try:\n",
    "        gene = re.search('GN=(.*?) ', protein.description).group(1)\n",
    "    except AttributeError:\n",
    "        try:\n",
    "            gene = re.search('GN=(.*?)$', protein.description).group(1)\n",
    "        except AttributeError:\n",
    "            gene = ''\n",
    "    gp = 1 if uniprot_id in gp_ids else 0\n",
    "    data.append([protein.id.split('|')[0], gene, uniprot_id, gp, str(protein.seq)])"
   ]
  },
  {
   "cell_type": "code",
   "execution_count": 12,
   "id": "54f3edfb",
   "metadata": {},
   "outputs": [],
   "source": [
    "df = pd.DataFrame(data, columns=['db', 'gene', 'id', 'gp' 'seq', ])"
   ]
  },
  {
   "cell_type": "code",
   "execution_count": 22,
   "id": "173efee5",
   "metadata": {
    "scrolled": true
   },
   "outputs": [],
   "source": [
    "nodes = {}\n",
    "for parent, child in zip(df['gene'],df['id']):\n",
    "    add_nodes(nodes, parent, child)\n",
    "\n",
    "with open('protein_tree.txt', 'w') as f:\n",
    "    roots = list(df[~df['gene'].isin(df['id'])]['gene'].unique())\n",
    "    for root in roots:         # you can skip this for roots[0], if there is no forest and just 1 tree\n",
    "        for pre, _, node in RenderTree(nodes[root]):\n",
    "            if node.name in gp_ids:\n",
    "                f.write(\"%s%s*\" % (pre, node.name))\n",
    "                f.write('\\n')\n",
    "            else:\n",
    "                f.write(\"%s%s\" % (pre, node.name))\n",
    "                f.write('\\n')"
   ]
  },
  {
   "cell_type": "code",
   "execution_count": null,
   "id": "02a23cfc",
   "metadata": {},
   "outputs": [],
   "source": []
  }
 ],
 "metadata": {
  "kernelspec": {
   "display_name": "Python 3 (ipykernel)",
   "language": "python",
   "name": "python3"
  },
  "language_info": {
   "codemirror_mode": {
    "name": "ipython",
    "version": 3
   },
   "file_extension": ".py",
   "mimetype": "text/x-python",
   "name": "python",
   "nbconvert_exporter": "python",
   "pygments_lexer": "ipython3",
   "version": "3.10.8"
  }
 },
 "nbformat": 4,
 "nbformat_minor": 5
}
