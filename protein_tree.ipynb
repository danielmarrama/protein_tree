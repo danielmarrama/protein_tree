{
 "cells": [
  {
   "cell_type": "code",
   "execution_count": 9,
   "id": "7a1f1a03",
   "metadata": {},
   "outputs": [],
   "source": [
    "import re\n",
    "import pandas as pd\n",
    "\n",
    "from Bio import SeqIO\n",
    "from anytree import Node, RenderTree"
   ]
  },
  {
   "cell_type": "code",
   "execution_count": 10,
   "id": "674844b3",
   "metadata": {},
   "outputs": [],
   "source": [
    "def add_nodes(nodes, parent, child):\n",
    "    if parent not in nodes:\n",
    "        nodes[parent] = Node(parent)  \n",
    "    if child not in nodes:\n",
    "        nodes[child] = Node(child)\n",
    "    nodes[child].parent = nodes[parent]"
   ]
  },
  {
   "cell_type": "code",
   "execution_count": 3,
   "id": "cd84397b",
   "metadata": {},
   "outputs": [],
   "source": [
    "proteins = list(SeqIO.parse('9606_all.fasta', 'fasta'))\n",
    "gp_ids = [str(x.id.split('|')[1]) for x in list(SeqIO.parse('9606_gp.fasta', 'fasta'))]"
   ]
  },
  {
   "cell_type": "code",
   "execution_count": 4,
   "id": "fbf6885b",
   "metadata": {},
   "outputs": [],
   "source": [
    "data = []\n",
    "for protein in proteins:\n",
    "    uniprot_id = protein.id.split('|')[1]\n",
    "    try:\n",
    "        gene = re.search('GN=(.*?) ', protein.description).group(1)\n",
    "    except AttributeError:\n",
    "        try:\n",
    "            gene = re.search('GN=(.*?)$', protein.description).group(1)\n",
    "        except AttributeError:\n",
    "            gene = ''\n",
    "    gp = 1 if uniprot_id in gp_ids else 0\n",
    "    data.append([protein.id.split('|')[0], gene, uniprot_id, gp, str(protein.seq)])\n",
    "    \n",
    "df = pd.DataFrame(data, columns=['db', 'gene', 'id', 'gp', 'seq'])"
   ]
  },
  {
   "cell_type": "code",
   "execution_count": 6,
   "id": "173efee5",
   "metadata": {
    "scrolled": true
   },
   "outputs": [],
   "source": [
    "nodes = {}\n",
    "for parent, child in zip(df['gene'],df['id']):\n",
    "    add_nodes(nodes, parent, child)\n",
    "\n",
    "with open('protein_tree.txt', 'w') as f:\n",
    "    roots = list(df[~df['gene'].isin(df['id'])]['gene'].unique())\n",
    "    for root in roots:\n",
    "        for pre, _, node in RenderTree(nodes[root]):\n",
    "            if node.name in gp_ids:\n",
    "                f.write(\"%s%s*\" % (pre, node.name))\n",
    "                f.write('\\n')\n",
    "            else:\n",
    "                f.write(\"%s%s\" % (pre, node.name))\n",
    "                f.write('\\n')"
   ]
  },
  {
   "cell_type": "code",
   "execution_count": null,
   "id": "dafd8d07",
   "metadata": {},
   "outputs": [],
   "source": []
  },
  {
   "cell_type": "code",
   "execution_count": 13,
   "id": "e2137cdb",
   "metadata": {},
   "outputs": [
    {
     "data": {
      "text/plain": [
       "            39069\n",
       "HLA-B       10360\n",
       "HLA-A        8870\n",
       "HLA-C        8646\n",
       "HLA-DRB1     4888\n",
       "            ...  \n",
       "DUX4L6          1\n",
       "DUX4L7          1\n",
       "GOLGA8H         1\n",
       "GAGE12G         1\n",
       "SYT15B          1\n",
       "Name: gene, Length: 27515, dtype: int64"
      ]
     },
     "execution_count": 13,
     "metadata": {},
     "output_type": "execute_result"
    }
   ],
   "source": [
    "df['gene'].value_counts()"
   ]
  },
  {
   "cell_type": "code",
   "execution_count": 8,
   "id": "4bd14162",
   "metadata": {},
   "outputs": [
    {
     "data": {
      "text/plain": [
       "True"
      ]
     },
     "execution_count": 8,
     "metadata": {},
     "output_type": "execute_result"
    }
   ],
   "source": [
    "'PPAP2A' in roots"
   ]
  },
  {
   "cell_type": "code",
   "execution_count": 35,
   "id": "67d62157",
   "metadata": {},
   "outputs": [],
   "source": [
    "df.to_csv('human_proteome.csv', index=False)"
   ]
  },
  {
   "cell_type": "code",
   "execution_count": 59,
   "id": "f6936329",
   "metadata": {},
   "outputs": [],
   "source": [
    "gp_mapping = {}\n",
    "for i, group in df.groupby('gene'):\n",
    "    for id in list(group['id']):\n",
    "        try:\n",
    "            gp_mapping[id] = str(group[group['gp'] == 1]['id'].iloc[0])\n",
    "        except IndexError:\n",
    "            pass"
   ]
  },
  {
   "cell_type": "code",
   "execution_count": 62,
   "id": "d33448b2",
   "metadata": {},
   "outputs": [],
   "source": [
    "import pickle\n",
    "with open('canonical_protein_mapping.pickle', 'wb') as f:\n",
    "    pickle.dump(gp_mapping, f)"
   ]
  },
  {
   "cell_type": "code",
   "execution_count": null,
   "id": "d5c56a32",
   "metadata": {},
   "outputs": [],
   "source": []
  }
 ],
 "metadata": {
  "kernelspec": {
   "display_name": "Python 3 (ipykernel)",
   "language": "python",
   "name": "python3"
  },
  "language_info": {
   "codemirror_mode": {
    "name": "ipython",
    "version": 3
   },
   "file_extension": ".py",
   "mimetype": "text/x-python",
   "name": "python",
   "nbconvert_exporter": "python",
   "pygments_lexer": "ipython3",
   "version": "3.10.8"
  }
 },
 "nbformat": 4,
 "nbformat_minor": 5
}
