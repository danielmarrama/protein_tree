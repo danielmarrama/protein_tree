{
 "cells": [
  {
   "cell_type": "code",
   "execution_count": 24,
   "id": "7a1f1a03",
   "metadata": {},
   "outputs": [],
   "source": [
    "import re\n",
    "\n",
    "import pandas as pd\n",
    "\n",
    "from Bio import SeqIO"
   ]
  },
  {
   "cell_type": "code",
   "execution_count": 25,
   "id": "674844b3",
   "metadata": {},
   "outputs": [],
   "source": [
    "from anytree import Node, RenderTree\n",
    "\n",
    "def add_nodes(nodes, parent, child):\n",
    "    if parent not in nodes:\n",
    "        nodes[parent] = Node(parent)  \n",
    "    if child not in nodes:\n",
    "        nodes[child] = Node(child)\n",
    "    nodes[child].parent = nodes[parent]"
   ]
  },
  {
   "cell_type": "code",
   "execution_count": 26,
   "id": "cd84397b",
   "metadata": {},
   "outputs": [],
   "source": [
    "proteins = list(SeqIO.parse('9606_all.fasta', 'fasta'))\n",
    "gp_ids = [str(x.id.split('|')[1]) for x in list(SeqIO.parse('9606_gp.fasta', 'fasta'))]"
   ]
  },
  {
   "cell_type": "code",
   "execution_count": 27,
   "id": "fbf6885b",
   "metadata": {},
   "outputs": [],
   "source": [
    "data = []\n",
    "for protein in proteins:\n",
    "    uniprot_id = protein.id.split('|')[1]\n",
    "    try:\n",
    "        gene = re.search('GN=(.*?) ', protein.description).group(1)\n",
    "    except AttributeError:\n",
    "        try:\n",
    "            gene = re.search('GN=(.*?)$', protein.description).group(1)\n",
    "        except AttributeError:\n",
    "            gene = ''\n",
    "    gp = 1 if uniprot_id in gp_ids else 0\n",
    "    data.append([protein.id.split('|')[0], gene, uniprot_id, gp, str(protein.seq)])"
   ]
  },
  {
   "cell_type": "code",
   "execution_count": 31,
   "id": "54f3edfb",
   "metadata": {},
   "outputs": [],
   "source": [
    "df = pd.DataFrame(data, columns=['db', 'gene', 'id', 'gp', 'seq'])"
   ]
  },
  {
   "cell_type": "code",
   "execution_count": 22,
   "id": "173efee5",
   "metadata": {
    "scrolled": true
   },
   "outputs": [],
   "source": [
    "nodes = {}\n",
    "for parent, child in zip(df['gene'],df['id']):\n",
    "    add_nodes(nodes, parent, child)\n",
    "\n",
    "with open('protein_tree.txt', 'w') as f:\n",
    "    roots = list(df[~df['gene'].isin(df['id'])]['gene'].unique())\n",
    "    for root in roots:\n",
    "        for pre, _, node in RenderTree(nodes[root]):\n",
    "            if node.name in gp_ids:\n",
    "                f.write(\"%s%s*\" % (pre, node.name))\n",
    "                f.write('\\n')\n",
    "            else:\n",
    "                f.write(\"%s%s\" % (pre, node.name))\n",
    "                f.write('\\n')"
   ]
  },
  {
   "cell_type": "code",
   "execution_count": 35,
   "id": "67d62157",
   "metadata": {},
   "outputs": [],
   "source": [
    "df.to_csv('human_proteome.csv', index=False)"
   ]
  },
  {
   "cell_type": "code",
   "execution_count": 36,
   "id": "4790497a",
   "metadata": {},
   "outputs": [
    {
     "data": {
      "text/html": [
       "<div>\n",
       "<style scoped>\n",
       "    .dataframe tbody tr th:only-of-type {\n",
       "        vertical-align: middle;\n",
       "    }\n",
       "\n",
       "    .dataframe tbody tr th {\n",
       "        vertical-align: top;\n",
       "    }\n",
       "\n",
       "    .dataframe thead th {\n",
       "        text-align: right;\n",
       "    }\n",
       "</style>\n",
       "<table border=\"1\" class=\"dataframe\">\n",
       "  <thead>\n",
       "    <tr style=\"text-align: right;\">\n",
       "      <th></th>\n",
       "      <th>db</th>\n",
       "      <th>gene</th>\n",
       "      <th>id</th>\n",
       "      <th>gp</th>\n",
       "      <th>seq</th>\n",
       "    </tr>\n",
       "  </thead>\n",
       "  <tbody>\n",
       "    <tr>\n",
       "      <th>0</th>\n",
       "      <td>tr</td>\n",
       "      <td>IFT20</td>\n",
       "      <td>A0A024QZ08</td>\n",
       "      <td>0</td>\n",
       "      <td>MAKDILGEAGLHFDELNKLRVLDPEVTQQTIELKEECKDFVDKIGQ...</td>\n",
       "    </tr>\n",
       "    <tr>\n",
       "      <th>1</th>\n",
       "      <td>tr</td>\n",
       "      <td>HDAC6</td>\n",
       "      <td>A0A024QZ26</td>\n",
       "      <td>0</td>\n",
       "      <td>MTSTGQDSTTTRQRRSRQNPQSPPQDSSVTSKRNIKKGAVPRSIPN...</td>\n",
       "    </tr>\n",
       "    <tr>\n",
       "      <th>2</th>\n",
       "      <td>tr</td>\n",
       "      <td>TBX2</td>\n",
       "      <td>A0A024QZ86</td>\n",
       "      <td>0</td>\n",
       "      <td>MREPALAASAMAYHPFHAPRPADFPMSAFLAAAQPSFFPALALPPG...</td>\n",
       "    </tr>\n",
       "    <tr>\n",
       "      <th>3</th>\n",
       "      <td>tr</td>\n",
       "      <td>EPHA2</td>\n",
       "      <td>A0A024QZA8</td>\n",
       "      <td>0</td>\n",
       "      <td>MELQAARACFALLWGCALAAAAAAQGKEVVLLDFAAAGGELGWLTH...</td>\n",
       "    </tr>\n",
       "    <tr>\n",
       "      <th>4</th>\n",
       "      <td>tr</td>\n",
       "      <td>CLN3</td>\n",
       "      <td>A0A024QZB8</td>\n",
       "      <td>0</td>\n",
       "      <td>MGGCAGSRRRFSDSEGEETVPEPRLPLLDHQGAHWKNAVGFWLLGL...</td>\n",
       "    </tr>\n",
       "    <tr>\n",
       "      <th>...</th>\n",
       "      <td>...</td>\n",
       "      <td>...</td>\n",
       "      <td>...</td>\n",
       "      <td>...</td>\n",
       "      <td>...</td>\n",
       "    </tr>\n",
       "    <tr>\n",
       "      <th>229381</th>\n",
       "      <td>tr</td>\n",
       "      <td>CACNA2D4</td>\n",
       "      <td>X6RLU5</td>\n",
       "      <td>0</td>\n",
       "      <td>XELVREVLFDAVVTAPMEAYWTALALNMSEESEHVVDMAFLGTRAG...</td>\n",
       "    </tr>\n",
       "    <tr>\n",
       "      <th>229382</th>\n",
       "      <td>tr</td>\n",
       "      <td>DDX5</td>\n",
       "      <td>X6RLV5</td>\n",
       "      <td>0</td>\n",
       "      <td>MSGYSSDRDRGRDRGFGAPRFGGSRAGPLSGKKFGNPGEKLVKKKW...</td>\n",
       "    </tr>\n",
       "    <tr>\n",
       "      <th>229383</th>\n",
       "      <td>tr</td>\n",
       "      <td>CACNA2D4</td>\n",
       "      <td>X6RLY7</td>\n",
       "      <td>0</td>\n",
       "      <td>MKLEFLQRKFWAATRQCSTVDGPCTQSCEDSDLDCFVIDNNGFILI...</td>\n",
       "    </tr>\n",
       "    <tr>\n",
       "      <th>229384</th>\n",
       "      <td>tr</td>\n",
       "      <td>ERC1</td>\n",
       "      <td>X6RM00</td>\n",
       "      <td>0</td>\n",
       "      <td>MYGSARSVGKVEPSSQSPGRSPRLPRSPRLGHRRTNSTGGSSGSSV...</td>\n",
       "    </tr>\n",
       "    <tr>\n",
       "      <th>229385</th>\n",
       "      <td>tr</td>\n",
       "      <td>ENOSF1</td>\n",
       "      <td>X6RM24</td>\n",
       "      <td>0</td>\n",
       "      <td>XHGADAMHTDPDYSAAYVVIETDAEDGIKGCGITFTLGKGTEVDWS...</td>\n",
       "    </tr>\n",
       "  </tbody>\n",
       "</table>\n",
       "<p>229386 rows × 5 columns</p>\n",
       "</div>"
      ],
      "text/plain": [
       "        db      gene          id  gp  \\\n",
       "0       tr     IFT20  A0A024QZ08   0   \n",
       "1       tr     HDAC6  A0A024QZ26   0   \n",
       "2       tr      TBX2  A0A024QZ86   0   \n",
       "3       tr     EPHA2  A0A024QZA8   0   \n",
       "4       tr      CLN3  A0A024QZB8   0   \n",
       "...     ..       ...         ...  ..   \n",
       "229381  tr  CACNA2D4      X6RLU5   0   \n",
       "229382  tr      DDX5      X6RLV5   0   \n",
       "229383  tr  CACNA2D4      X6RLY7   0   \n",
       "229384  tr      ERC1      X6RM00   0   \n",
       "229385  tr    ENOSF1      X6RM24   0   \n",
       "\n",
       "                                                      seq  \n",
       "0       MAKDILGEAGLHFDELNKLRVLDPEVTQQTIELKEECKDFVDKIGQ...  \n",
       "1       MTSTGQDSTTTRQRRSRQNPQSPPQDSSVTSKRNIKKGAVPRSIPN...  \n",
       "2       MREPALAASAMAYHPFHAPRPADFPMSAFLAAAQPSFFPALALPPG...  \n",
       "3       MELQAARACFALLWGCALAAAAAAQGKEVVLLDFAAAGGELGWLTH...  \n",
       "4       MGGCAGSRRRFSDSEGEETVPEPRLPLLDHQGAHWKNAVGFWLLGL...  \n",
       "...                                                   ...  \n",
       "229381  XELVREVLFDAVVTAPMEAYWTALALNMSEESEHVVDMAFLGTRAG...  \n",
       "229382  MSGYSSDRDRGRDRGFGAPRFGGSRAGPLSGKKFGNPGEKLVKKKW...  \n",
       "229383  MKLEFLQRKFWAATRQCSTVDGPCTQSCEDSDLDCFVIDNNGFILI...  \n",
       "229384  MYGSARSVGKVEPSSQSPGRSPRLPRSPRLGHRRTNSTGGSSGSSV...  \n",
       "229385  XHGADAMHTDPDYSAAYVVIETDAEDGIKGCGITFTLGKGTEVDWS...  \n",
       "\n",
       "[229386 rows x 5 columns]"
      ]
     },
     "execution_count": 36,
     "metadata": {},
     "output_type": "execute_result"
    }
   ],
   "source": [
    "df"
   ]
  },
  {
   "cell_type": "code",
   "execution_count": 59,
   "id": "f6936329",
   "metadata": {},
   "outputs": [],
   "source": [
    "gp_mapping = {}\n",
    "for i, group in df.groupby('gene'):\n",
    "    for id in list(group['id']):\n",
    "        try:\n",
    "            gp_mapping[id] = str(group[group['gp'] == 1]['id'].iloc[0])\n",
    "        except IndexError:\n",
    "            pass"
   ]
  },
  {
   "cell_type": "code",
   "execution_count": 62,
   "id": "d33448b2",
   "metadata": {},
   "outputs": [],
   "source": [
    "import pickle\n",
    "with open('gp_mapping.pickle', 'wb') as f:\n",
    "    pickle.dump(gp_mapping, f)"
   ]
  },
  {
   "cell_type": "code",
   "execution_count": null,
   "id": "d5c56a32",
   "metadata": {},
   "outputs": [],
   "source": []
  }
 ],
 "metadata": {
  "kernelspec": {
   "display_name": "Python 3 (ipykernel)",
   "language": "python",
   "name": "python3"
  },
  "language_info": {
   "codemirror_mode": {
    "name": "ipython",
    "version": 3
   },
   "file_extension": ".py",
   "mimetype": "text/x-python",
   "name": "python",
   "nbconvert_exporter": "python",
   "pygments_lexer": "ipython3",
   "version": "3.10.8"
  }
 },
 "nbformat": 4,
 "nbformat_minor": 5
}
